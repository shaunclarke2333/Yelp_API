{
 "cells": [
  {
   "cell_type": "code",
   "execution_count": 1,
   "metadata": {},
   "outputs": [],
   "source": [
    "import requests\n",
    "import json\n",
    "import pandas as pd\n",
    "from config import api_key\n",
    "from config import token "
   ]
  },
  {
   "cell_type": "code",
   "execution_count": 29,
   "metadata": {},
   "outputs": [
    {
     "name": "stdout",
     "output_type": "stream",
     "text": [
      "addy\n",
      "biz\n"
     ]
    }
   ],
   "source": [
    "id = []\n",
    "name = []\n",
    "address = []\n",
    "lat = []\n",
    "lng = []\n",
    "rating = []\n",
    "review = []\n",
    "\n",
    "addy = [\"8680 Miralani Drive #123\", \"16990 Via Tazon Suite 124\"]\n",
    "biz = [\"2Kids Brewing Co\", \"Abnormal Beer Company\"]\n",
    "\n",
    "for b in biz:\n",
    "    for a in addy:\n",
    "        headers = {'Authorization': 'Bearer %s' % api_key}\n",
    "        params = {'name':b,'address1':a,'city':'San Diego', 'state':'Ca', 'country':'US'}\n",
    "        url = \"https://api.yelp.com/v3/businesses/matches\"\n",
    "        response = requests.get(url, headers=headers, params=params)\n",
    "        response_json = response.json()\n",
    "        ids = response_json[\"businesses\"][0][\"id\"]\n",
    "        addresses = response_json[\"businesses\"][0][\"location\"][\"address1\"]\n",
    "        lats = response_json[\"businesses\"][0][\"coordinates\"][\"latitude\"]\n",
    "        lngs = response_json[\"businesses\"][0][\"coordinates\"][\"longitude\"]\n",
    "        names = response_json[\"businesses\"][0][\"name\"]\n",
    "        name.append(names)\n",
    "        address.append(addresses)\n",
    "        lat.append(lats)\n",
    "        lng.append(lngs)\n",
    "        id.append(ids)\n",
    "        address.append(addresses)\n",
    "\n",
    "for i in id:\n",
    "    for b in biz:\n",
    "        for a in addy:\n",
    "\n",
    "            params = {'name':b,'address1':a,'city':'San Diego', 'state':'Ca', 'country':'US'}\n",
    "            url = \"https://api.yelp.com/v3/businesses/\"\n",
    "            response = requests.get(url + i, headers=headers, params=params)\n",
    "            response_json = response.json()\n",
    "            ratings = response_json[\"rating\"]\n",
    "            reviews = response_json[\"review_count\"]\n",
    "            review.append(reviews)\n",
    "            rating.append(ratings)\n"
   ]
  },
  {
   "cell_type": "code",
   "execution_count": 8,
   "metadata": {},
   "outputs": [],
   "source": []
  },
  {
   "cell_type": "code",
   "execution_count": null,
   "metadata": {},
   "outputs": [],
   "source": [
    "rating = []\n",
    "review = []\n",
    "for i in id:\n",
    "    for x in biz:\n",
    "        for y in addy:\n",
    "\n",
    "            params = {'name':x,'address1':y,'city':'San Diego', 'state':'Ca', 'country':'US'}\n",
    "            url = \"https://api.yelp.com/v3/businesses/\"\n",
    "            response = requests.get(url + i, headers=headers, params=params)\n",
    "            response_json = response.json()\n",
    "            ratings = response_json[\"rating\"]\n",
    "            reviews = response_json[\"review_count\"]\n",
    "            review.append(reviews)\n",
    "            rating.append(ratings)\n",
    "review"
   ]
  },
  {
   "cell_type": "code",
   "execution_count": null,
   "metadata": {},
   "outputs": [],
   "source": [
    "response_json"
   ]
  },
  {
   "cell_type": "code",
   "execution_count": null,
   "metadata": {},
   "outputs": [],
   "source": []
  }
 ],
 "metadata": {
  "kernelspec": {
   "display_name": "Python 3",
   "language": "python",
   "name": "python3"
  },
  "language_info": {
   "codemirror_mode": {
    "name": "ipython",
    "version": 3
   },
   "file_extension": ".py",
   "mimetype": "text/x-python",
   "name": "python",
   "nbconvert_exporter": "python",
   "pygments_lexer": "ipython3",
   "version": "3.6.8"
  }
 },
 "nbformat": 4,
 "nbformat_minor": 2
}
