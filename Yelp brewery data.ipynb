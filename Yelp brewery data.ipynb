{
 "cells": [
  {
   "cell_type": "code",
   "execution_count": 1,
   "metadata": {},
   "outputs": [],
   "source": [
    "import requests\n",
    "import json\n",
    "import pandas as pd\n",
    "from config import api_key\n",
    "from config import token "
   ]
  },
  {
   "cell_type": "code",
   "execution_count": 113,
   "metadata": {},
   "outputs": [],
   "source": [
    "id = []\n",
    "name = []\n",
    "rating = []\n",
    "address = []\n",
    "review = []\n",
    "lat = []\n",
    "lng = []\n",
    "a = -1\n",
    "addy = [\"8680 Miralani Drive #123\"]\n",
    "biz = [\"2Kids Brewing Co\"]\n",
    "for x in biz:\n",
    "    for y in addy:\n",
    "        headers = {'Authorization': 'Bearer %s' % api_key}\n",
    "        params = {'name':x,'address1':y,'city':'San Diego', 'state':'Ca', 'country':'US'}\n",
    "        url = \"https://api.yelp.com/v3/businesses/matches\"\n",
    "        response = requests.get(url, headers=headers, params=params)\n",
    "        response_json = response.json()\n",
    "# for x in response_json[\"businesses\"]:\n",
    "#      a += 1\n",
    "    \n",
    "    ids = response_json[\"businesses\"][0][\"id\"]\n",
    "    addresses = response_json[\"businesses\"][0][\"location\"][\"address1\"]\n",
    "    id.append(ids)\n",
    "    address.append(addresses)\n"
   ]
  },
  {
   "cell_type": "code",
   "execution_count": 115,
   "metadata": {},
   "outputs": [
    {
     "data": {
      "text/plain": [
       "['8WhmaCOxMwI4C0GUN8xIng']"
      ]
     },
     "execution_count": 115,
     "metadata": {},
     "output_type": "execute_result"
    }
   ],
   "source": [
    "id"
   ]
  },
  {
   "cell_type": "code",
   "execution_count": 107,
   "metadata": {},
   "outputs": [
    {
     "data": {
      "text/plain": [
       "{'error': {'code': 'NOT_FOUND', 'description': 'Resource could not be found.'}}"
      ]
     },
     "execution_count": 107,
     "metadata": {},
     "output_type": "execute_result"
    }
   ],
   "source": [
    "# for i in id:\n",
    "\n",
    "params = {'name':\"8WhmaCOxMwI4C0GUN8xIng\",'address1':\"8680 Miralani Drive #123\",'city':'San Diego', 'state':'Ca', 'country':'US'}\n",
    "url = \"https://api.yelp.com/v3/businesses/\"\n",
    "response = requests.get(url, headers=headers, params=params)\n",
    "response_json = response.json()\n",
    "#     ratings = response_json[\"businesses\"][0][\"rating\"]\n",
    "#     addresses = response_json[\"businesses\"][a][\"location\"][\"address1\"]\n",
    "#     reviews = response_json[\"businesses\"][a][\"review_count\"]\n",
    "#     lats = response_json[\"businesses\"][a][\"coordinates\"][\"latitude\"]\n",
    "#     lngs = response_json[\"businesses\"][a][\"coordinates\"][\"longitude\"]\n",
    "#     names = response_json[\"businesses\"][0][\"name\"]\n",
    "#     name.append(names)\n",
    "#     address.append(addresses)\n",
    "#     review.append(reviews)\n",
    "#     lat.append(lats)\n",
    "#     lng.append(lngs)\n",
    "#     rating.append(ratings)\n",
    "response_json"
   ]
  },
  {
   "cell_type": "code",
   "execution_count": null,
   "metadata": {},
   "outputs": [],
   "source": []
  }
 ],
 "metadata": {
  "kernelspec": {
   "display_name": "Python 3",
   "language": "python",
   "name": "python3"
  },
  "language_info": {
   "codemirror_mode": {
    "name": "ipython",
    "version": 3
   },
   "file_extension": ".py",
   "mimetype": "text/x-python",
   "name": "python",
   "nbconvert_exporter": "python",
   "pygments_lexer": "ipython3",
   "version": "3.6.8"
  }
 },
 "nbformat": 4,
 "nbformat_minor": 2
}
